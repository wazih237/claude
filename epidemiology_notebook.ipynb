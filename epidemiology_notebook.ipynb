{
 "cells": [
  {
   "cell_type": "markdown",
   "id": "0003e3aa",
   "metadata": {},
   "source": [
    "# Epidemiology Data Analysis"
   ]
  },
  {
   "cell_type": "code",
   "execution_count": 2,
   "id": "ae958299",
   "metadata": {},
   "outputs": [
    {
     "name": "stderr",
     "output_type": "stream",
     "text": [
      "/var/folders/p4/0hrwnr9s3gv3f2qr7f8dx4nc0000gn/T/ipykernel_53741/3282699526.py:2: DtypeWarning: Columns (8,25,53,56,58,59,65,71,72,89,90,91,98,99,101,102,103,108,109,112,113,114,115,116) have mixed types. Specify dtype option on import or set low_memory=False.\n",
      "  data = pd.read_csv('Desktop/Mercy data/2024-08-08_MPOXLL_DB_NonDig_NAT_SansNoms_S32_n10166.csv')\n"
     ]
    }
   ],
   "source": [
    "import pandas as pd\n",
    "data = pd.read_csv('Desktop/Mercy data/2024-08-08_MPOXLL_DB_NonDig_NAT_SansNoms_S32_n10166.csv')  "
   ]
  },
  {
   "cell_type": "code",
   "execution_count": null,
   "id": "7d4c4ff6-5c68-4c35-a1b0-f22802ec5928",
   "metadata": {},
   "outputs": [],
   "source": [
    "print(data.head())"
   ]
  },
  {
   "cell_type": "code",
   "execution_count": null,
   "id": "0a8679d3-ad93-4f56-ac9d-1f3cf9e7bb94",
   "metadata": {},
   "outputs": [],
   "source": []
  }
 ],
 "metadata": {
  "kernelspec": {
   "display_name": "Python 3 (ipykernel)",
   "language": "python",
   "name": "python3"
  },
  "language_info": {
   "codemirror_mode": {
    "name": "ipython",
    "version": 3
   },
   "file_extension": ".py",
   "mimetype": "text/x-python",
   "name": "python",
   "nbconvert_exporter": "python",
   "pygments_lexer": "ipython3",
   "version": "3.12.5"
  }
 },
 "nbformat": 4,
 "nbformat_minor": 5
}
