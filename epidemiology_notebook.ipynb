{
 "cells": [
  {
   "cell_type": "markdown",
   "id": "0003e3aa",
   "metadata": {},
   "source": [
    "# Epidemiology Data Analysis"
   ]
  },
  {
   "cell_type": "code",
   "execution_count": 2,
   "id": "ae958299",
   "metadata": {},
   "outputs": [
    {
     "name": "stderr",
     "output_type": "stream",
     "text": [
      "/var/folders/p4/0hrwnr9s3gv3f2qr7f8dx4nc0000gn/T/ipykernel_53836/3282699526.py:2: DtypeWarning: Columns (8,25,53,56,58,59,65,71,72,89,90,91,98,99,101,102,103,108,109,112,113,114,115,116) have mixed types. Specify dtype option on import or set low_memory=False.\n",
      "  data = pd.read_csv('Desktop/Mercy data/2024-08-08_MPOXLL_DB_NonDig_NAT_SansNoms_S32_n10166.csv')\n"
     ]
    }
   ],
   "source": [
    "import pandas as pd\n",
    "data = pd.read_csv('Desktop/Mercy data/2024-08-08_MPOXLL_DB_NonDig_NAT_SansNoms_S32_n10166.csv', low_memory=False)  "
   ]
  },
  {
   "cell_type": "code",
   "execution_count": 3,
   "id": "7d4c4ff6-5c68-4c35-a1b0-f22802ec5928",
   "metadata": {},
   "outputs": [
    {
     "name": "stdout",
     "output_type": "stream",
     "text": [
      "            Investigation Unnamed: 1     Unnamed: 2     Unnamed: 3  \\\n",
      "0  Numero Epidémiologique   Province  Zone de Santé  Aire de Santé   \n",
      "1                  NumEpi   Province             ZS             AS   \n",
      "2         001-EQT_RDC_WGT   Equateur        Wangata    Mama Balako   \n",
      "3         002-EQT_RDC_WGT   Equateur        Wangata    De La Ville   \n",
      "4         003-EQT_RDC_WGT   Equateur       Mbandaka          Ipeko   \n",
      "\n",
      "             Unnamed: 4            Unnamed: 5 Donées sur le Cas  \\\n",
      "0  Date d'investigation  Date de Notification     Status du Cas   \n",
      "1     DateInvestigation      DateNotification         StatusCas   \n",
      "2                   NaN               1/22/24            Vivant   \n",
      "3                   NaN                3/5/24            Vivant   \n",
      "4                   NaN                3/4/24            Vivant   \n",
      "\n",
      "          Unnamed: 7 Unnamed: 8 Unnamed: 9  ... Données supplémentaires  \\\n",
      "0  Date de naissance        Age  Unite Age  ...   Classification finale   \n",
      "1      DateNaissance        Age   UniteAge  ...    ClassificationFinale   \n",
      "2                NaN         44   2= Année  ...            Cas Probable   \n",
      "3                NaN         28   2= Année  ...            Cas Probable   \n",
      "4                NaN         54   2= Année  ...            Cas Probable   \n",
      "\n",
      "                             Unnamed: 108  \\\n",
      "0  Delai Symptôms-Notification (en jours)   \n",
      "1               delaiSymptomsNotification   \n",
      "2                                      22   \n",
      "3                                      40   \n",
      "4                                      39   \n",
      "\n",
      "                                  Unnamed: 109   Unnamed: 110  \\\n",
      "0  Delai Notification-Investigation (en jours)  Tranche d'Age   \n",
      "1               DelaiNotificationInvestigation     TrancheAge   \n",
      "2                                          NaN     8.(>40Ans)   \n",
      "3                                          NaN   7.(20-40Ans)   \n",
      "4                                          NaN     8.(>40Ans)   \n",
      "\n",
      "      Unnamed: 111                             Unnamed: 112  \\\n",
      "0  Tranche d'Age 2  Semaine Epidémiologique de Notification   \n",
      "1      TrancheAge3                         SEpiNotification   \n",
      "2       5.(>40Ans)                                        4   \n",
      "3     4.(20-40Ans)                                       10   \n",
      "4       5.(>40Ans)                                       10   \n",
      "\n",
      "                                    Unnamed: 113 Unnamed: 114 Unnamed: 115  \\\n",
      "0  Semaine Epidémiologique de début des Symptôms          NaN          NaN   \n",
      "1                                        SEpiDDS      regnumb     epicode1   \n",
      "2                                             52        #REF!           90   \n",
      "3                                              4        #REF!           90   \n",
      "4                                              4        #REF!          276   \n",
      "\n",
      "  Unnamed: 116  \n",
      "0          NaN  \n",
      "1     epicode2  \n",
      "2        #REF!  \n",
      "3        #REF!  \n",
      "4        #REF!  \n",
      "\n",
      "[5 rows x 117 columns]\n"
     ]
    }
   ],
   "source": [
    "print(data.head())"
   ]
  },
  {
   "cell_type": "code",
   "execution_count": null,
   "id": "0a8679d3-ad93-4f56-ac9d-1f3cf9e7bb94",
   "metadata": {},
   "outputs": [],
   "source": [
    "import pandas as pd\n",
    "data['Date d\'investigation'] = pd.to_datetime(data['Date d\'investigation'], errors='coerce')\n",
    "data['Date de Notification'] = pd.to_datetime(data['Date de Notification'], errors='coerce')\n",
    "data['Date de naissance'] = pd.to_datetime(data['Date de naissance'], errors='coerce')\n",
    "print(data.info())"
   ]
  }
 ],
 "metadata": {
  "kernelspec": {
   "display_name": "Python 3 (ipykernel)",
   "language": "python",
   "name": "python3"
  },
  "language_info": {
   "codemirror_mode": {
    "name": "ipython",
    "version": 3
   },
   "file_extension": ".py",
   "mimetype": "text/x-python",
   "name": "python",
   "nbconvert_exporter": "python",
   "pygments_lexer": "ipython3",
   "version": "3.12.5"
  }
 },
 "nbformat": 4,
 "nbformat_minor": 5
}
