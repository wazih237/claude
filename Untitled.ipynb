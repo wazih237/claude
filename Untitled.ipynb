# Import necessary libraries and load the dataset
import pandas as pd

# Load the dataset (please provide the correct path or upload the dataset)
dataset_path = '/Users/fatherpheobe/Desktop/Mercy data/LL_SK_MPOX.csv'
df = pd.read_csv(dataset_path)

# Let's get started with the analysis!
print("Number of columns:", df.columns.size)
classification_counts = df['Classification finale ↓'].value_counts()
print("Classification finale ↓ counts:")
print(classification_counts)
people_below_15 = df[df['Age'] < 15].shape[0]
print("Number of people below 15:", people_below_15)
# First, convert the 'Age' column to numeric, coercing errors to NaN
df['Age'] = pd.to_numeric(df['Age'], errors='coerce')

# Now create the age groups
bins = [0, 5, 11, 16, 21, 26, 31, np.inf]  # Changed the last bin to np.inf
labels = ['<5', '6-10', '11-15', '16-20', '21-25', '26-30', '31+']
df['Age_Groups'] = pd.cut(df['Age'], bins=bins, labels=labels, include_lowest=True)

print("Age groups:")
print(df['Age_Groups'].value_counts())
print("Age groups:")
print(df['Age_Groups'].value_counts())
