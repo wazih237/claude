# Import necessary libraries and load the dataset
import pandas as pd

# Load the dataset (please provide the correct path or upload the dataset)
dataset_path = '/Users/fatherpheobe/Desktop/Mercy data/LL_SK_MPOX.csv'
df = pd.read_csv(dataset_path)

# Let's get started with the analysis!
print("Number of columns:", df.columns.size)
print("Number of rows:", df.shape[0])
classification_counts = df['Classification finale ↓'].value_counts()
print("Classification finale ↓ counts:")
print(classification_counts)
people_below_15 = df[df['Age'] < 15].shape[0]
print("Number of people below 15:", people_below_15)
# First, convert the 'Age' column to numeric, coercing errors to NaN
df['Age'] = pd.to_numeric(df['Age'], errors='coerce')

# Now create the age groups
bins = [0, 5, 11, 16, 21, 26, 31, np.inf]  # Changed the last bin to np.inf
labels = ['<5', '6-10', '11-15', '16-20', '21-25', '26-30', '31+']
df['Age_Groups'] = pd.cut(df['Age'], bins=bins, labels=labels, include_lowest=True)

pivot_table = pd.crosstab(df[df['Age_Groups'].isin(['<5', '6-10', '11-15'])]['Classification finale ↓'], df[df['Age_Groups'].isin(['<5', '6-10', '11-15'])]['Age_Groups'])
status_cas_counts = df['Status du cas'].value_counts()
hospitalized_oui_counts = df[(df['HospitaliséOUI/NON/NSP'] == 'OUI') & (df['Age_Groups'].isin(['<5', '6-10', '11-15']))].groupby('Age_Groups').size()
hospitalized_table = pd.crosstab(df[df['Age_Groups'].isin(['<5', '6-10', '11-15'])]['HospitaliséOUI/NON/NSP'], df[df['Age_Groups'].isin(['<5', '6-10', '11-15'])]['Age_Groups'])
print("HospitaliséOUI/NON/NSP vs Age Groups table:")
print(hospitalized_table)
mode_transmission_table = pd.crosstab(df['ModeTransmission'], df['Classification finale ↓'])
print("ModeTransmission vs Classification finale ↓ table:")
print(mode_transmission_table)
lesions_table = pd.crosstab(df['symptôme: Lésions accompagnées de démangeaisonsOUI/NON ↓'], df['Classification finale ↓'])
print("symptôme: Lésions accompagnées de démangeaisonsOUI/NON ↓ vs Classification finale ↓ table:")
print(lesions_table)
status_cas_table = pd.crosstab(df[df['Age_Groups'].isin(['<5', '6-10', '11-15'])]['Status du cas'], df[df['Age_Groups'].isin(['<5', '6-10', '11-15'])]['Age_Groups'])
confirm_status_cas_table = pd.crosstab(df[(df['Classification finale ↓'] == 'Confirmé') & (df['Age_Groups'].isin(['<5', '6-10', '11-15']))]['Status du cas'], df[(df['Classification finale ↓'] == 'Confirmé') & (df['Age_Groups'].isin(['<5', '6-10', '11-15']))]['Age_Groups'])
print("Status du cas vs Age Groups for Classification finale ↓ = Confirmé table:")
print(confirm_status_cas_table)
