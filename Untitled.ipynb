# Import necessary libraries and load the dataset
import pandas as pd

# Load the dataset (please provide the correct path or upload the dataset)
dataset_path = '/Users/fatherpheobe/Desktop/Mercy data/LL_SK_MPOX.csv'
df = pd.read_csv(dataset_path)

# Let's get started with the analysis!
print("Number of columns:", df.columns.size)
classification_counts = df['Classification finale ↓'].value_counts()
print("Classification finale ↓ counts:")
print(classification_counts)
people_below_15 = df[df['Age'] < 15].shape[0]
print("Number of people below 15:", people_below_15)
bins = [0, 5, 11, 16, 21, 26, 31, float('inf')]
labels = ['<5', '6-10', '11-15', '16-20', '21-25', '26-30', '>30']
df['Age_Groups'] = pd.cut(df['Age'], bins=bins, labels=labels)
print("Age groups:")
print(df['Age_Groups'].value_counts())
