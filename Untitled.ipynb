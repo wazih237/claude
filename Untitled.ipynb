# Import necessary libraries and load the dataset
import pandas as pd

# Load the dataset (please provide the correct path or upload the dataset)
dataset_path = '/Users/fatherpheobe/Desktop/Mercy data/LL_SK_MPOX.csv'
df = pd.read_csv(dataset_path)

# Let's get started with the analysis!
print("Number of columns:", df.columns.size)
classification_counts = df['Classification finale ↓'].value_counts()
print("Classification finale ↓ counts:")
print(classification_counts)
people_below_15 = df[df['Age'] < 15].shape[0]
print("Number of people below 15:", people_below_15)
df['Age_group'] = (df['Age'] // 5) * 5
print("Age groups:")
print(df['Age_group'].value_counts())
