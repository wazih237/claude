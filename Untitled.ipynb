# Import necessary libraries and load the dataset
import pandas as pd

# Load the dataset (please provide the correct path or upload the dataset)
dataset_path = '/Users/fatherpheobe/Desktop/Mercy data/LL_SK_MPOX.csv'
df = pd.read_csv(dataset_path)

# Let's get started with the analysis!
print("Number of columns:", df.columns.size)
