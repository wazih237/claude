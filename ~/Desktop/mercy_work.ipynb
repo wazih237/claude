import pandas as pd

# Load the dataset
data = pd.read_csv("~/Desktop/Mercy data/clean_monkey_pox.csv")

# Fill empty cells in 'Province' column with previous values
data['Province'].fillna(method='ffill', inplace=True)

# Harmonize the 'Date' column
data['Date'] = pd.to_datetime(data['Date'])

# Get general information from the data
print("Date column info:")
print(data['Date'].info())
print(data.describe())
print(data.head())

data['Date_in_Weeks'] = data['Date'].dt.to_period('W')
final_classification_over_time = data.groupby('Date_in_Weeks')['Final_Classification'].count().reset_index(name='Count')

# Plot how 'Final_Classification' evolves over time
plt.figure(figsize=(10, 6))
sns.lineplot(x='Week', y='Count', data=final_classification_over_time)
plt.title('Final Classification Over Time')
plt.xlabel('Weeks')
plt.ylabel('Count')
plt.show()

# Group 'Took_test' into different features within and make it a table
test_features = pd.get_dummies(data['Took_test'])
test_features['Total'] = test_features.sum(axis=1)
print(test_features.head())

# Create a table that shows the different 'Test_Result' against the 'Province'
province_test_result = data.groupby(['Province', 'Test_Result']).size().reset_index(name='Count')
import seaborn as sns
import matplotlib.pyplot as plt

import matplotlib.pyplot as plt


# Set the 'id' column to string type
data['id'] = data['id'].astype(str)

# Bin the 'Age' column into four groups
data['Age group'] = pd.cut(data['Age'], bins=[-1, 5, 15, 30, float('inf')], labels=['<5', '5-15', '15-30', '>30'])
