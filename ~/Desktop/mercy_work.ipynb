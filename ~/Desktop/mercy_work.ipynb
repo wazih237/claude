import pandas as pd

# Load the dataset
data = pd.read_csv("~/Desktop/Mercy data/clean_monkey_pox.csv")

# Fill empty cells in 'Province' column with previous values
data['Province'].fillna(method='ffill', inplace=True)

# Harmonize the 'Date' column
data['Date'] = pd.to_datetime(data['Date'])

# Get general information from the data
print(data.info())
print(data.describe())
print(data.head())

# Set the 'id' column to string type
data['id'] = data['id'].astype(str)

# Bin the 'Age' column into four groups
data['Age group'] = pd.cut(data['Age'], bins=[-1, 5, 15, 30, float('inf')], labels=['<5', '5-15', '15-30', '>30'])
