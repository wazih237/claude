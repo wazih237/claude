import pandas as pd

# Load the dataset
data = pd.read_csv("~/Desktop/Mercy data/clean_monkey_pox.csv")

# Fill empty cells in 'Province' column with previous values
data['Province'].fillna(method='ffill', inplace=True)
