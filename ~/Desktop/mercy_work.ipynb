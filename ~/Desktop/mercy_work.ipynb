import pandas as pd

# Load the dataset
data = pd.read_csv("~/Desktop/Mercy data/clean_monkey_pox.csv")

# Fill empty cells in 'Province' column with previous values
data['Province'].fillna(method='ffill', inplace=True)

# Harmonize the 'Date' column
data['Date'] = pd.to_datetime(data['Date'])
