import pandas as pd

# Load the dataset
data = pd.read_csv("~/Desktop/Mercy data/clean_monkey_pox.csv")
