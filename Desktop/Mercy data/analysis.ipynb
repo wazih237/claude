import pandas as pd
import matplotlib.pyplot as plt

df = pd.read_csv('/Users/fatherpheobe/Desktop/Mercy data/clean_liste_lineaire_mpox.csv')
symptom_cols = [col for col in df.columns if 'symptom' in col.lower()]
print("Symptom columns:", symptom_cols)

pivot_table = pd.pivot_table(df, index='DiagTestResults', columns=['SkinRash', 'GenitalRash', 'OralRash', 'Fever', 'Headaches', 'MuscularPain', 'JointPain', 'Fatigue', 'CervicalAdenopathy', 'InguinalAdenopathy', 'AxillaryAdenopathy', 'ColdSweats', 'Diarrhea', 'GenitalEdema'], aggfunc='size', fill_value=0)
print(pivot_table)

plt.figure(figsize=(10, 8))
pivot_table.plot(kind='bar')
plt.title('Pivot Table of DiagTestResults against Symptoms')
plt.xlabel('DiagTestResults')
plt.ylabel('Count')
plt.show()
