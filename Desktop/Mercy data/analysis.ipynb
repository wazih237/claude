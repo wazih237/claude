import pandas as pd
symptom_cols = [col for col in df.columns if 'symptom' in col.lower()]
print("Symptom columns:", symptom_cols)
