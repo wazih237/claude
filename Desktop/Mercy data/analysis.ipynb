import pandas as pd
import matplotlib.pyplot as plt

df = pd.read_csv('/Users/fatherpheobe/Desktop/Mercy data/clean_liste_lineaire_mpox.csv')
symptom_cols = [col for col in df.columns if 'symptom' in col.lower()]
print("Symptom columns:", symptom_cols)

table = df[(df['DiagTestResults'] == 'Pos') & (df[['SkinRash', 'GenitalRash', 'OralRash', 'Fever', 'Headaches', 'MuscularPain', 'JointPain', 'Fatigue', 'CervicalAdenopathy', 'InguinalAdenopathy', 'AxillaryAdenopathy', 'ColdSweats', 'Diarrhea', 'GenitalEdema']] == 'oui').groupby(['SkinRash', 'GenitalRash', 'OralRash', 'Fever', 'Headaches', 'MuscularPain', 'JointPain', 'Fatigue', 'CervicalAdenopathy', 'InguinalAdenopathy', 'AxillaryAdenopathy', 'ColdSweats', 'Diarrhea', 'GenitalEdema']).size().reset_index(name='Count')
print(table)
