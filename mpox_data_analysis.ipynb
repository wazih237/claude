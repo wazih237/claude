# Import necessary libraries
import pandas as pd

# Load Mpox data from the correct path
data = pd.read_csv('/Desktop/Mercy data/clean_monkey_pox.csv')

# Fill empty rows in 'Test_Result' with 'Positif' if 'Final_Classification' == 'Cas Confirmé', and vice versa
data['Test_Result'].fillna(where=data['Final_Classification'] == 'Cas Confirmé', value='Positif', inplace=True)
data['Test_Result'].fillna(where=data['Final_Classification'] != 'Cas Confirmé', value='Negatif', inplace=True)

# Check if 'Age Group' column exists
if 'Age Group' in data.columns:
    print("Column 'Age Group' exists")
else:
    print("Column 'Age Group' does not exist")

# Display the first few rows of the data
print(data.head())

# Create a table of 'Test_Result' 'Positif' cases in the 'Province' Equateur and Sud Kivu by the different 'Age group'
positif_cases = data[(data['Test_Result'] == 'Positif') & (data['Province'].isin(['Equateur', 'Sud Kivu']))]
positif_cases_table = positif_cases.groupby(['Province', 'Age Group']).size().reset_index(name='Count')
print(positif_cases_table)

# Create a table showing 'Age group' <15 with 'Test_Result'== 'Positif' with 'Malnutrition' =='Oui'
malnutrition_cases = data[(data['Age Group'] == '<15') & (data['Test_Result'] == 'Positif') & (data['Malnutrition'] == 'Oui')]
malnutrition_cases_table = malnutrition_cases.groupby(['Province', 'Age Group']).size().reset_index(name='Count')
print(malnutrition_cases_table)

# Investigate the relationship between "Positif" "Test_Result" and "Malnutrition"
positif_malnutrition_cases = data[(data['Test_Result'] == 'Positif') & (data['Malnutrition'] == 'Oui')]
positif_malnutrition_cases_table = positif_malnutrition_cases.groupby(['Province', 'Age Group']).size().reset_index(name='Count')
print(positif_malnutrition_cases_table)

# Investigate the relationship between "Positif" "Test_Result" and "Malnutrition" for children below the Age of 15
positif_malnutrition_children = data[(data['Test_Result'] == 'Positif') & (data['Malnutrition'] == 'Oui') & (data['Age Group'] == '<15')]
positif_malnutrition_children_table = positif_malnutrition_children.groupby(['Province', 'Age Group']).size().reset_index(name='Count')
from scipy.stats import chi2_contingency

print(positif_malnutrition_children_table)

# Perform chi-square test of independence for Test_Results and 'Malnutrition' for "Positif" cases of Age below 15
positif_malnutrition_children_pivot = positif_malnutrition_children.pivot_table(index='Malnutrition', columns='Test_Result', aggfunc='size', fill_value=0)
chi2, p, dof, expected = chi2_contingency(positif_malnutrition_children_pivot)
print("Chi-square statistic:", chi2)
print("p-value:", p)
