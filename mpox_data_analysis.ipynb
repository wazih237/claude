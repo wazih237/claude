# Import necessary libraries
import pandas as pd

# Load Mpox data from the correct path
data = pd.read_csv('/Desktop/Mercy data/clean_monkey_pox.csv')

# Fill empty rows in 'Test_Result' with 'Positif' if 'Final_Classification' == 'Cas Confirmé', and vice versa
data['Test_Result'].fillna(where=data['Final_Classification'] == 'Cas Confirmé', value='Positif', inplace=True)
data['Test_Result'].fillna(where=data['Final_Classification'] != 'Cas Confirmé', value='Negatif', inplace=True)

# Check if 'Age Group' column exists
if 'Age Group' in data.columns:
    print("Column 'Age Group' exists")
else:
    print("Column 'Age Group' does not exist")

# Display the first few rows of the data
print(data.head())

# Create a table of 'Test_Result' 'Positif' cases in the 'Province' Equateur and Sud Kivu by the different 'Age group'
positif_cases = data[(data['Test_Result'] == 'Positif') & (data['Province'].isin(['Equateur', 'Sud Kivu']))]
positif_cases_table = positif_cases.groupby(['Province', 'Age Group']).size().reset_index(name='Count')
print(positif_cases_table)

# Create a table showing 'Age group' <15 with 'Test_Result'== 'Positif' with 'Malnutrition' =='Oui'
malnutrition_cases = data[(data['Age Group'] == '<15') & (data['Test_Result'] == 'Positif') & (data['Malnutrition'] == 'Oui')]
malnutrition_cases_table = malnutrition_cases.groupby(['Province', 'Age Group']).size().reset_index(name='Count')
print(malnutrition_cases_table)

# Investigate the relationship between "Positif" "Test_Result" and "Malnutrition"
positif_malnutrition_cases = data[(data['Test_Result'] == 'Positif') & (data['Malnutrition'] == 'Oui')]
positif_malnutrition_cases_table = positif_malnutrition_cases.groupby(['Province', 'Age Group']).size().reset_index(name='Count')
print(positif_malnutrition_cases_table)

# Investigate the relationship between "Positif" "Test_Result" and "Malnutrition" for children below the Age of 15
positif_malnutrition_children = data[(data['Test_Result'] == 'Positif') & (data['Malnutrition'] == 'Oui') & (data['Age Group'] == '<15')]
positif_malnutrition_children_table = positif_malnutrition_children.groupby(['Province', 'Age Group']).size().reset_index(name='Count')
from scipy.stats import chi2_contingency

print(positif_malnutrition_children_table)

# Create a table showing the relationship between "Test_Result" Positif and "Sexual_contact_with_someone_with_skin_lesions/Mpox" as well as "Contact_with_someone_with_skin_lesions_in_the_household"
positif_contact_table = data[(data['Test_Result'] == 'Positif')].groupby(['Sexual_contact_with_someone_with_skin_lesions/Mpox', 'Contact_with_someone_with_skin_lesions_in_the_household']).size().reset_index(name='Count')
print(positif_contact_table)

# Calculate chi-square test of independence for "Test_Result" positif and "Sexual_contact_with_someone_with_skin_lesions/Mpox"
positif_sexual_contact_table = pd.crosstab(data['Test_Result'], data['Sexual_contact_with_someone_with_skin_lesions/Mpox'])
chi2, p, dof, expected = chi2_contingency(positif_sexual_contact_table)
print("Chi-square test of independence for 'Test_Result' positif and 'Sexual_contact_with_someone_with_skin_lesions/Mpox':")
print("Chi-square statistic: ", chi2)
print("p-value: ", p)

# Create a table showing the relationship between "Test_Result" Positif and "Contact_with_someone_with_skin_lesions_in_the_household"
positif_contact_household_table = data[(data['Test_Result'] == 'Positif')].groupby(['Contact_with_someone_with_skin_lesions_in_the_household']).size().reset_index(name='Count')
print(positif_contact_household_table)

# Calculate chi-square test of independence for "Test_Result" positif and "Contact_with_someone_with_skin_lesions_in_the_household"
positif_contact_household_crosstab = pd.crosstab(data['Test_Result'], data['Contact_with_someone_with_skin_lesions_in_the_household'])
chi2, p, dof, expected = chi2_contingency(positif_contact_household_crosstab)
print("Chi-square test of independence for 'Test_Result' positif and 'Contact_with_someone_with_skin_lesions_in_the_household':")
print("Chi-square statistic: ", chi2)
print("p-value: ", p)

# Create a table showing the relationship between "Test_Result" Positif and "Contact_with_someone_with_skin_lesions_in_the_household" for Ages below 15
positif_contact_household_below15_table = data[(data['Test_Result'] == 'Positif') & (data['Age Group'] == '<15')].groupby(['Contact_with_someone_with_skin_lesions_in_the_household']).size().reset_index(name='Count')
print(positif_contact_household_below15_table)

# Calculate chi-square test of independence for "Test_Result" positif and "Contact_with_someone_with_skin_lesions_in_the_household" for Ages below 15
positif_contact_household_below15_crosstab = pd.crosstab(data[(data['Test_Result'] == 'Positif') & (data['Age Group'] == '<15')]['Test_Result'], data[(data['Test_Result'] == 'Positif') & (data['Age Group'] == '<15')]['Contact_with_someone_with_skin_lesions_in_the_household'])
chi2, p, dof, expected = chi2_contingency(positif_contact_household_below15_crosstab)
print("Chi-square test of independence for 'Test_Result' positif and 'Contact_with_someone_with_skin_lesions_in_the_household' for Ages below 15:")
print("Chi-square statistic: ", chi2)
print("p-value: ", p)
hospitalized_cases = data[(data['Test_Result'] == 'Positif') & (data['Age Group'] == '<15') & (data['Hospitalized'] == 'Yes')]
hospitalized_cases_table = hospitalized_cases.groupby(['Province']).size().reset_index(name='Count')
print(hospitalized_cases_table)
