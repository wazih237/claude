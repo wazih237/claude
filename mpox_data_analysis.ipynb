# Import necessary libraries
import pandas as pd

# Load Mpox data from the correct path
data = pd.read_csv('/Desktop/Mercy data/clean_monkey_pox.csv')

# Fill empty rows in 'Test_Result' with 'Positif' if 'Final_Classification' == 'Cas Confirmé', and vice versa
data['Test_Result'].fillna(where=data['Final_Classification'] == 'Cas Confirmé', value='Positif', inplace=True)
data['Test_Result'].fillna(where=data['Final_Classification'] != 'Cas Confirmé', value='Negatif', inplace=True)

# Display the first few rows of the data
print(data.head())
