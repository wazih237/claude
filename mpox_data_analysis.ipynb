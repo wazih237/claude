# Import necessary libraries
import pandas as pd

# Load Mpox data from the correct path
data = pd.read_csv('/Desktop/Mercy data/clean_monkey_pox.csv')

# Display the first few rows of the data
print(data.head())
