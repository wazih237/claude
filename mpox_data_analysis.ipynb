# Import necessary libraries
import pandas as pd

# Load Mpox data (please replace with your actual data loading code)
data = pd.read_csv('mpox_data.csv')

# Display the first few rows of the data
print(data.head())
